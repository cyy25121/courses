{
 "cells": [
  {
   "cell_type": "code",
   "execution_count": null,
   "metadata": {
    "collapsed": true
   },
   "outputs": [],
   "source": [
    "%matplotlib inline\n",
    "import utils; reload(utils)\n",
    "from utils import plots"
   ]
  },
  {
   "cell_type": "markdown",
   "metadata": {},
   "source": [
    "# Create Validation set"
   ]
  },
  {
   "cell_type": "markdown",
   "metadata": {},
   "source": [
    "* 目前採用randomized的產生一組新的train/valid set\n",
    "* 需去了解大部分介紹CNN的課程中，前期的Cross-validation似乎沒這麼重要，或許是因為做一次的training就已經能找到不太會overfitting的parameters，且一次training所耗費的資源極高"
   ]
  },
  {
   "cell_type": "code",
   "execution_count": null,
   "metadata": {
    "collapsed": true
   },
   "outputs": [],
   "source": [
    "DATAPATH = 'data/redux'"
   ]
  },
  {
   "cell_type": "code",
   "execution_count": null,
   "metadata": {
    "collapsed": true
   },
   "outputs": [],
   "source": [
    "%mkdir -p $DATAPATH/sample/train\n",
    "%mkdir -p $DATAPATH/sample/valid\n",
    "%mkdir -p $DATAPATH/sample/test\n",
    "%mkdir -p $DATAPATH/valid"
   ]
  },
  {
   "cell_type": "code",
   "execution_count": null,
   "metadata": {
    "collapsed": true
   },
   "outputs": [],
   "source": [
    "import os\n",
    "from glob import glob\n",
    "from shutil import copy\n",
    "import numpy as np"
   ]
  },
  {
   "cell_type": "markdown",
   "metadata": {},
   "source": [
    "根據各個class在原始training set的比例來分配validation set"
   ]
  },
  {
   "cell_type": "code",
   "execution_count": null,
   "metadata": {
    "collapsed": true
   },
   "outputs": [],
   "source": [
    "dglob = glob(os.path.join(DATAPATH, 'train') + \"/dog.*.jpg\")\n",
    "cglob = glob(os.path.join(DATAPATH, 'train') + \"/cat.*.jpg\")\n",
    "\n",
    "r_dglob = np.random.permutation(dglob)\n",
    "r_cglob = np.random.permutation(cglob)"
   ]
  },
  {
   "cell_type": "code",
   "execution_count": null,
   "metadata": {
    "collapsed": true
   },
   "outputs": [],
   "source": [
    "for i in range(len(r_dglob) / 4): os.rename(r_dglob[i], r_dglob[i].replace('train', 'valid'))\n",
    "for i in range(len(r_cglob) / 4): os.rename(r_cglob[i], r_cglob[i].replace('train', 'valid'))"
   ]
  },
  {
   "cell_type": "code",
   "execution_count": null,
   "metadata": {
    "collapsed": true
   },
   "outputs": [],
   "source": [
    "trg = glob(os.path.join(DATAPATH, 'train') + \"/*.jpg\")\n",
    "r_trg = np.random.permutation(trg)\n",
    "\n",
    "vag = glob(os.path.join(DATAPATH, 'valid') + \"/*.jpg\")\n",
    "r_vag = np.random.permutation(vag)\n",
    "\n",
    "teg = glob(os.path.join(DATAPATH, 'test') + \"/*.jpg\")\n",
    "r_teg = np.random.permutation(teg)"
   ]
  },
  {
   "cell_type": "code",
   "execution_count": null,
   "metadata": {
    "collapsed": true
   },
   "outputs": [],
   "source": [
    "for i in range(20): copy(r_trg[i], os.path.join(DATAPATH, 'sample/train'))\n",
    "for i in range(20): copy(r_vag[i], os.path.join(DATAPATH, 'sample/valid'))\n",
    "for i in range(10): copy(r_teg[i], os.path.join(DATAPATH, 'sample/test'))"
   ]
  },
  {
   "cell_type": "markdown",
   "metadata": {},
   "source": [
    "## 將不同類別放進不同資料夾中"
   ]
  },
  {
   "cell_type": "code",
   "execution_count": null,
   "metadata": {
    "collapsed": true
   },
   "outputs": [],
   "source": [
    "%mkdir -p $DATAPATH/train/dogs\n",
    "%mkdir -p $DATAPATH/train/cats\n",
    "%mkdir -p $DATAPATH/valid/dogs\n",
    "%mkdir -p $DATAPATH/valid/cats\n",
    "%mkdir -p $DATAPATH/test/unknown\n",
    "\n",
    "%mkdir -p $DATAPATH/sample/train/dogs\n",
    "%mkdir -p $DATAPATH/sample/train/cats\n",
    "%mkdir -p $DATAPATH/sample/valid/dogs\n",
    "%mkdir -p $DATAPATH/sample/valid/cats\n",
    "%mkdir -p $DATAPATH/sample/test/unknown\n",
    "\n",
    "# the code below cannot be executed because the command \"mv\" has argument limitation in macOS\n",
    "# use \"find\" instead\n",
    "#%mv $DATAPATH/train/dog.*.jpg $DATAPATH/train/dogs\n",
    "#%mv $DATAPATH/train/cat.*.jpg $DATAPATH/train/cats\n",
    "#%mv $DATAPATH/valid/dog.*.jpg $DATAPATH/valid/dogs\n",
    "#%mv $DATAPATH/valid/cat.*.jpg $DATAPATH/valid/cats\n",
    "#%mv $DATAPATH/test/*.jpg $DATAPATH/test/unknown\n",
    "\n",
    "!find train -name 'dog.*.jpg' | xargs -I {} mv {} train/dogs/\n",
    "!find train -name 'cat.*.jpg' | xargs -I {} mv {} train/cats/\n",
    "!find valid -name 'dog.*.jpg' | xargs -I {} mv {} valid/dogs/\n",
    "!find valid -name 'cat.*.jpg' | xargs -I {} mv {} valid/cats/\n",
    "!find test -name '*.jpg' | xargs -I {} mv {} test/unknown/\n",
    "\n",
    "\n",
    "%mv $DATAPATH/sample/train/dog.*.jpg $DATAPATH/sample/train/dogs\n",
    "%mv $DATAPATH/sample/train/cat.*.jpg $DATAPATH/sample/train/cats\n",
    "%mv $DATAPATH/sample/valid/dog.*.jpg $DATAPATH/sample/valid/dogs\n",
    "%mv $DATAPATH/sample/valid/cat.*.jpg $DATAPATH/sample/valid/cats\n",
    "%mv $DATAPATH/sample/test/*.jpg $DATAPATH/sample/test/unknown\n"
   ]
  },
  {
   "cell_type": "markdown",
   "metadata": {},
   "source": [
    "這裡可以發現，如果使用Keras的batch來讀image，會花相當多的時間在搬動以及分類照片到不同的資料夾中，如果還要使用Pyhton的library做partition，相當的麻煩，或許可以考慮寫一隻script來完成以上的工作。"
   ]
  },
  {
   "cell_type": "code",
   "execution_count": null,
   "metadata": {
    "collapsed": true
   },
   "outputs": [],
   "source": [
    "data_path = 'data/redux/'\n",
    "result_path = 'result/'"
   ]
  },
  {
   "cell_type": "markdown",
   "metadata": {},
   "source": [
    "# 透過Fune-tune的方式來訓練CNN"
   ]
  },
  {
   "cell_type": "code",
   "execution_count": null,
   "metadata": {
    "collapsed": true
   },
   "outputs": [],
   "source": [
    "from vgg16 import Vgg16"
   ]
  },
  {
   "cell_type": "markdown",
   "metadata": {},
   "source": [
    "### Initial Vgg16"
   ]
  },
  {
   "cell_type": "code",
   "execution_count": null,
   "metadata": {
    "collapsed": true
   },
   "outputs": [],
   "source": [
    "vgg = Vgg16()\n",
    "batch_size=64"
   ]
  },
  {
   "cell_type": "code",
   "execution_count": null,
   "metadata": {},
   "outputs": [],
   "source": [
    "batches = vgg.get_batches(data_path + \"train\", batch_size = batch_size)\n",
    "val_batches = vgg.get_batches(data_path + \"valid\", batch_size = batch_size)\n",
    "vgg.finetune(batches)"
   ]
  },
  {
   "cell_type": "markdown",
   "metadata": {},
   "source": [
    "必須在fine-tune過後才可以加上optimizer???\n",
    "```AttributeError: 'Sequential' object has no attribute 'optimizer'```"
   ]
  },
  {
   "cell_type": "markdown",
   "metadata": {},
   "source": [
    "### Model parameter"
   ]
  },
  {
   "cell_type": "code",
   "execution_count": null,
   "metadata": {
    "collapsed": true,
    "scrolled": true
   },
   "outputs": [],
   "source": [
    "no_of_epochs = 3\n",
    "vgg.model.optimizer.lr = 0.01"
   ]
  },
  {
   "cell_type": "markdown",
   "metadata": {},
   "source": [
    "### Fit"
   ]
  },
  {
   "cell_type": "code",
   "execution_count": null,
   "metadata": {
    "collapsed": true
   },
   "outputs": [],
   "source": [
    "vgg.fit(batches, val_batches, nb_epoch=1)\n",
    "weights_filename = 'ft%d.h5' % epoch\n",
    "vgg.model.save_weights(result_path + weights_filename)"
   ]
  },
  {
   "cell_type": "markdown",
   "metadata": {},
   "source": [
    "# Prediction & Visualization"
   ]
  },
  {
   "cell_type": "code",
   "execution_count": null,
   "metadata": {},
   "outputs": [],
   "source": [
    "vgg.model.load_weights('ft0.h5')\n",
    "test_batches, pred = vgg.test(data_path + 'test', batch_size=batch_size)"
   ]
  },
  {
   "cell_type": "code",
   "execution_count": null,
   "metadata": {
    "collapsed": true
   },
   "outputs": [],
   "source": [
    "import re\n",
    "import pandas as pd\n",
    "pred = pd.DataFrame({'label': pred[:,1], 'file' : test_batches.filenames})\n",
    "pred['id'] = pred.apply(lambda x: re.sub('[^0-9]', '', x['file']), axis = 1)\n",
    "pred['id'] = pred['id'].astype('int32')\n",
    "submission_df = pred.sort_values(by=['id'])[['id', 'label']]\n",
    "submission_df.to_csv('sample_submission.csv', index=False)"
   ]
  }
 ],
 "metadata": {
  "kernelspec": {
   "display_name": "Python 2",
   "language": "python",
   "name": "python2"
  },
  "language_info": {
   "codemirror_mode": {
    "name": "ipython",
    "version": 2
   },
   "file_extension": ".py",
   "mimetype": "text/x-python",
   "name": "python",
   "nbconvert_exporter": "python",
   "pygments_lexer": "ipython2",
   "version": "2.7.14"
  },
  "varInspector": {
   "cols": {
    "lenName": 16,
    "lenType": 16,
    "lenVar": 40
   },
   "kernels_config": {
    "python": {
     "delete_cmd_postfix": "",
     "delete_cmd_prefix": "del ",
     "library": "var_list.py",
     "varRefreshCmd": "print(var_dic_list())"
    },
    "r": {
     "delete_cmd_postfix": ") ",
     "delete_cmd_prefix": "rm(",
     "library": "var_list.r",
     "varRefreshCmd": "cat(var_dic_list()) "
    }
   },
   "types_to_exclude": [
    "module",
    "function",
    "builtin_function_or_method",
    "instance",
    "_Feature"
   ],
   "window_display": false
  }
 },
 "nbformat": 4,
 "nbformat_minor": 2
}
